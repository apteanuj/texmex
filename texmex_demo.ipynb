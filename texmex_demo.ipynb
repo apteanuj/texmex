{
 "cells": [
  {
   "cell_type": "code",
   "execution_count": 8,
   "id": "3561fff2",
   "metadata": {},
   "outputs": [],
   "source": [
    "import numpy as np\n",
    "from qiskit import *\n",
    "from qiskit.providers.fake_provider import FakeManila, FakeKolkata, FakeMelbourne\n",
    "from mthree.twirling.twirl_circuit import texmex_data\n",
    "from mthree.utils import final_measurement_mapping\n",
    "from mthree import M3Mitigation\n",
    "from mthree.calibrations import Calibration\n",
    "from mthree.generators import CompleteGenerator, HadamardGenerator, RandomGenerator\n",
    "import matplotlib.pyplot as plt\n",
    "from mthree.utils import expval"
   ]
  },
  {
   "cell_type": "code",
   "execution_count": 9,
   "id": "216038b3",
   "metadata": {},
   "outputs": [],
   "source": [
    "backend = FakeKolkata()"
   ]
  },
  {
   "cell_type": "code",
   "execution_count": 10,
   "id": "3e36b7f9",
   "metadata": {},
   "outputs": [],
   "source": [
    "def GHZ(N):\n",
    "    qc = QuantumCircuit(N, N)\n",
    "    qc.h(0)\n",
    "    for i in range(1,N):\n",
    "        qc.cx(0,i)\n",
    "    for i in range(N):\n",
    "        qc.measure(i,i)\n",
    "    trans_qc = transpile(qc, backend, optimization_level=2, seed_transpiler=12345)\n",
    "    return trans_qc\n",
    "\n",
    "def m3circuit(N):\n",
    "    qc = QuantumCircuit(N, N)\n",
    "    qc.x(range(N))\n",
    "    qc.h(range(N))\n",
    "\n",
    "    for kk in range(N // 2, 0, -1):\n",
    "        qc.ch(kk, kk - 1)\n",
    "    for kk in range(N // 2, N - 1):\n",
    "        qc.ch(kk, kk + 1)\n",
    "    for i in range(N):\n",
    "        qc.measure(i,i)\n",
    "    trans_qc = transpile(qc, backend, optimization_level=2, seed_transpiler=12345)\n",
    "    return trans_qc\n",
    "\n",
    "def donothing(N):\n",
    "    qc = QuantumCircuit(N, N)\n",
    "    for i in range(N):\n",
    "        qc.measure(i,i)\n",
    "    trans_qc = transpile(qc, backend, optimization_level=2, seed_transpiler=12345)\n",
    "    return trans_qc"
   ]
  },
  {
   "cell_type": "code",
   "execution_count": 16,
   "id": "aa1f4a88",
   "metadata": {},
   "outputs": [
    {
     "name": "stdout",
     "output_type": "stream",
     "text": [
      "19\n"
     ]
    }
   ],
   "source": [
    "transpiled_circuit = GHZ(8)\n",
    "measurement_map = final_measurement_mapping(transpiled_circuit)\n",
    "qubits = [value for key,value in measurement_map.items()]\n",
    "#print(qubits)\n",
    "op = 'ZZZZZZZZ'\n",
    "print(transpiled_circuit.depth())"
   ]
  },
  {
   "cell_type": "code",
   "execution_count": 17,
   "id": "04516943",
   "metadata": {},
   "outputs": [
    {
     "name": "stdout",
     "output_type": "stream",
     "text": [
      "0.754150390625\n"
     ]
    },
    {
     "data": {
      "text/plain": [
       "(0.8966930703433241, 0.01332441691881515)"
      ]
     },
     "execution_count": 17,
     "metadata": {},
     "output_type": "execute_result"
    }
   ],
   "source": [
    "# This cell shows how to compute mitigated expectation values with M3\n",
    "# I used this for inspiration for TexMex syntax\n",
    "\n",
    "mit = M3Mitigation(backend)\n",
    "mit.cals_from_system(qubits=qubits,shots=2**16)\n",
    "\n",
    "raw = backend.run(transpiled_circuit, shots=2**13).result().get_counts()\n",
    "print(expval(raw,op))\n",
    "\n",
    "quasi = mit.apply_correction(raw, qubits, return_mitigation_overhead=True)\n",
    "quasi.expval_and_stddev(op)"
   ]
  },
  {
   "cell_type": "code",
   "execution_count": 18,
   "id": "e7a57b20",
   "metadata": {},
   "outputs": [
    {
     "name": "stdout",
     "output_type": "stream",
     "text": [
      "Unmitigated Expectation value: 0.7646\n",
      "Mitigated Expectation value: 0.9091\n",
      "Mitigation Standard Deviation: 0.0186\n"
     ]
    }
   ],
   "source": [
    "# This cell shows how to compute mitigated expectation values with TexMex\n",
    " \n",
    "cal = Calibration(backend=backend,qubits=qubits)\n",
    "cal.calibrate_from_backend(shots=2**13)\n",
    "\n",
    "texmex_counts = texmex_data(backend=backend, circuit=transpiled_circuit, shots=2**13)\n",
    "\n",
    "print(f\"Unmitigated Expectation value: {expval(texmex_counts,op):.4f}\")\n",
    "print(f\"Mitigated Expectation value: {cal.mitigated_expval_std(texmex_counts,qubits,op)[0]:.4f}\")\n",
    "print(f\"Mitigation Standard Deviation: {cal.mitigated_expval_std(texmex_counts,qubits,op)[1]:.4f}\")"
   ]
  }
 ],
 "metadata": {
  "kernelspec": {
   "display_name": "Python 3 (ipykernel)",
   "language": "python",
   "name": "python3"
  },
  "language_info": {
   "codemirror_mode": {
    "name": "ipython",
    "version": 3
   },
   "file_extension": ".py",
   "mimetype": "text/x-python",
   "name": "python",
   "nbconvert_exporter": "python",
   "pygments_lexer": "ipython3",
   "version": "3.11.5"
  }
 },
 "nbformat": 4,
 "nbformat_minor": 5
}
