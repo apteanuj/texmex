{
 "cells": [
  {
   "cell_type": "code",
   "execution_count": 1,
   "id": "3561fff2",
   "metadata": {},
   "outputs": [],
   "source": [
    "import numpy as np\n",
    "from qiskit import *\n",
    "from qiskit.providers.fake_provider import FakeManila, FakeKolkata, FakeMelbourne\n",
    "from mthree.twirling.twirl_circuit import texmex_data\n",
    "from mthree.utils import final_measurement_mapping\n",
    "from mthree import M3Mitigation\n",
    "from mthree.calibrations import Calibration\n",
    "from mthree.generators import CompleteGenerator, HadamardGenerator, RandomGenerator\n",
    "import matplotlib.pyplot as plt\n",
    "from mthree.utils import expval"
   ]
  },
  {
   "cell_type": "code",
   "execution_count": 2,
   "id": "216038b3",
   "metadata": {},
   "outputs": [],
   "source": [
    "backend = FakeMelbourne()"
   ]
  },
  {
   "cell_type": "code",
   "execution_count": 35,
   "id": "3e36b7f9",
   "metadata": {},
   "outputs": [],
   "source": [
    "def GHZ(N):\n",
    "    qc = QuantumCircuit(N, N)\n",
    "    qc.h(0)\n",
    "    for i in range(1,N):\n",
    "        qc.cx(0,i)\n",
    "    for i in range(N):\n",
    "        qc.measure(i,i)\n",
    "    trans_qc = transpile(qc, backend, optimization_level=2, seed_transpiler=12345)\n",
    "    return trans_qc\n",
    "\n",
    "def m3circuit(N):\n",
    "    qc = QuantumCircuit(N, N)\n",
    "    qc.x(range(N))\n",
    "    qc.h(range(N))\n",
    "\n",
    "    for kk in range(N // 2, 0, -1):\n",
    "        qc.ch(kk, kk - 1)\n",
    "    for kk in range(N // 2, N - 1):\n",
    "        qc.ch(kk, kk + 1)\n",
    "    for i in range(N):\n",
    "        qc.measure(i,i)\n",
    "    trans_qc = transpile(qc, backend, optimization_level=2, seed_transpiler=12345)\n",
    "    return trans_qc\n",
    "\n",
    "def donothing(N):\n",
    "    qc = QuantumCircuit(N, N)\n",
    "    for i in range(N):\n",
    "        qc.measure(i,i)\n",
    "    trans_qc = transpile(qc, backend, optimization_level=2, seed_transpiler=12345)\n",
    "    return trans_qc\n",
    "\n",
    "def values_from_dict(dict):\n",
    "    values = []\n",
    "    for key,value in dict.items():\n",
    "        values.append(value)\n",
    "    return values\n",
    "\n",
    "def sort_counts(dict):\n",
    "    # sort dictionary of counts with the most common occurence in the beginning\n",
    "    return {k: v for k, v in sorted(dict.items(), key=lambda item: item[1], reverse=True)}"
   ]
  },
  {
   "cell_type": "code",
   "execution_count": 62,
   "id": "aa1f4a88",
   "metadata": {},
   "outputs": [],
   "source": [
    "transpiled_circuit = m3circuit(8)\n",
    "#print(final_measurement_mapping(transpiled_circuit))\n",
    "qubits = values_from_dict(final_measurement_mapping(transpiled_circuit))\n",
    "#print(qubits)\n",
    "op = 'ZZZZZZZZ'"
   ]
  },
  {
   "cell_type": "code",
   "execution_count": 82,
   "id": "67cb032d",
   "metadata": {},
   "outputs": [
    {
     "name": "stdout",
     "output_type": "stream",
     "text": [
      "0.13818359375\n"
     ]
    },
    {
     "data": {
      "text/plain": [
       "(0.2775870524767043, 0.022621809527378127)"
      ]
     },
     "execution_count": 82,
     "metadata": {},
     "output_type": "execute_result"
    }
   ],
   "source": [
    "cal = Calibration(backend=backend,qubits=qubits)\n",
    "cal.calibrate_from_backend(shots=2**13)\n",
    "calib_counts = cal.to_texmex_counts()\n",
    "\n",
    "texmex_dat = texmex_data(backend=backend, circuit=transpiled_circuit, shots=2**13)\n",
    "print(expval(texmex_dat,op))\n",
    "\n",
    "cal.mitigated_expval_std(texmex_dat,qubits,op)"
   ]
  },
  {
   "cell_type": "code",
   "execution_count": 6,
   "id": "ed7d10ad",
   "metadata": {},
   "outputs": [],
   "source": [
    "# def list_to_dict(input_list):\n",
    "#     result_dict = {}\n",
    "#     for idx, value in enumerate(input_list):\n",
    "#         result_dict[idx] = value\n",
    "#     return result_dict\n",
    "\n",
    "# from qiskit.result import marginal_counts\n",
    "# def permute_bitstring(bitstring, shuffle_pattern):\n",
    "#     \"\"\"\n",
    "#     Permute a bit-string based on the given shuffle pattern.\n",
    "\n",
    "#     Parameters:\n",
    "#         bitstring (str): The input bit-string to be permuted.\n",
    "#         shuffle_pattern (list): The shuffle pattern specifying the new order of bits.\n",
    "\n",
    "#     Returns:\n",
    "#         str: Permuted bit-string.\n",
    "#     \"\"\"\n",
    "#     permuted_bitstring = \"\"\n",
    "\n",
    "#     for index in shuffle_pattern:\n",
    "#         permuted_bitstring += bitstring[index]\n",
    "\n",
    "#     return permuted_bitstring \n",
    "\n",
    "# def marginalize_counts(counts, qubits, bit_to_physical_mapping):\n",
    "#     final_measurement_mapping = list_to_dict(qubits)\n",
    "#     print(final_measurement_mapping)\n",
    "#     final_mapping_interchanged = {v: k for k, v in final_measurement_mapping.items()}\n",
    "#     physical_to_bit_mapping = {v: k for k, v in bit_to_physical_mapping.items()}\n",
    "    \n",
    "#     indices_to_keep = [physical_to_bit_mapping[qubit] for qubit in qubits]\n",
    "\n",
    "#     shuffled_marginalized_counts = marginal_counts(result=counts, indices=indices_to_keep)\n",
    "    \n",
    "#     indices_to_shuffle = [final_mapping_interchanged[bit_to_physical_mapping[index]] for index in indices_to_keep]\n",
    "    \n",
    "#     marginalized_counts = {permute_bitstring(key, indices_to_shuffle): val for key, val in shuffled_marginalized_counts.items()}\n",
    "    \n",
    "#     return marginalized_counts\n",
    "\n",
    "# def rel_variance_from_expval(x, shots):\n",
    "#     \"\"\"\n",
    "#     Relative Variance of a quantity estimated by summing up {-1,+1} for each shot based on the \n",
    "#     observed bistring \n",
    "\n",
    "#     Parameters:\n",
    "#         x (float): Input Expectation value \n",
    "#         shots (int): Total Number of shots\n",
    "\n",
    "#     Returns:\n",
    "#         float: variance \n",
    "#     \"\"\"\n",
    "#     return (1-x**2)/(shots * x**2)\n",
    "\n",
    "# from mthree.utils import expval\n",
    "\n",
    "# def mitig_expval_std(counts, qubits, calibration_counts, bit_to_physical_mapping, operator=None):\n",
    "#     \"\"\"\n",
    "#     Use the counts data to compute mitigated expectation value of an operator for a given circuit \n",
    "\n",
    "#     Parameters:\n",
    "#         counts (dict): dictionary of counts\n",
    "#         qubits (list): list of qubits measured at the end of the circuit\n",
    "#         calibration_counts (dict): dictionary of counts\n",
    "#         bit_to_physical_mapping (dict): dictionary containing mapping of measured qubits for calibration\n",
    "#         operator (str or dict or list): String or dict representation of diagonal \n",
    "#                                 qubit operators used in computing the expectation\n",
    "#                                 value.\n",
    "\n",
    "#     Returns:\n",
    "#         list: list of results for the mitigated expectation value and uncertainity estimate\n",
    "#     \"\"\"\n",
    "#     # This is needed because counts is a Counts object in Qiskit not a dict.\n",
    "#     counts = dict(counts)\n",
    "#     calibration_counts = dict(calibration_counts)\n",
    "\n",
    "#     # Find number of shots for circuit and calibration\n",
    "#     shots = sum(counts.values())\n",
    "#     calib_shots = sum(calibration_counts.values())\n",
    "\n",
    "#     # marginalize calibration data \n",
    "#     marginalized_calibration_counts = marginalize_counts(calibration_counts, qubits, bit_to_physical_mapping)\n",
    "\n",
    "#     # find the expectation value from the circuit data and the associated uncertainity\n",
    "#     expvalue  = expval(items=counts, exp_ops=operator)\n",
    "#     expvalue_rel_variance = rel_variance_from_expval(expvalue, shots)\n",
    "\n",
    "#     # find the expectation value from the calibration data and the associated uncertainity\n",
    "#     calib_expval  = expval(items=marginalized_calibration_counts, exp_ops=operator)\n",
    "#     calib_rel_variance = rel_variance_from_expval(calib_expval, calib_shots)\n",
    "\n",
    "#     # divide by the calibration expectation value to obtain mitigated expectation value \n",
    "#     mitigated_expval = expvalue/calib_expval\n",
    "#     mitigated_rel_variance = expvalue_rel_variance + calib_rel_variance\n",
    "#     mitigated_std = mitigated_expval*np.sqrt(mitigated_rel_variance)\n",
    "\n",
    "#     return (mitigated_expval, mitigated_std)"
   ]
  },
  {
   "cell_type": "code",
   "execution_count": 72,
   "id": "04516943",
   "metadata": {},
   "outputs": [
    {
     "name": "stdout",
     "output_type": "stream",
     "text": [
      "0.08251953125\n"
     ]
    },
    {
     "data": {
      "text/plain": [
       "(0.2829291496290417, 0.032923630802916985)"
      ]
     },
     "execution_count": 72,
     "metadata": {},
     "output_type": "execute_result"
    }
   ],
   "source": [
    "mit = M3Mitigation(backend)\n",
    "mit.cals_from_system(qubits=qubits,shots=2**13)\n",
    "\n",
    "raw = backend.run(transpiled_circuit, shots=2**13).result().get_counts()\n",
    "print(expval(raw,op))\n",
    "\n",
    "quasi = mit.apply_correction(raw, qubits, return_mitigation_overhead=True)\n",
    "quasi.expval_and_stddev(op)"
   ]
  }
 ],
 "metadata": {
  "kernelspec": {
   "display_name": "Python 3 (ipykernel)",
   "language": "python",
   "name": "python3"
  },
  "language_info": {
   "codemirror_mode": {
    "name": "ipython",
    "version": 3
   },
   "file_extension": ".py",
   "mimetype": "text/x-python",
   "name": "python",
   "nbconvert_exporter": "python",
   "pygments_lexer": "ipython3",
   "version": "3.11.4"
  }
 },
 "nbformat": 4,
 "nbformat_minor": 5
}
