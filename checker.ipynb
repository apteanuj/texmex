{
 "cells": [
  {
   "cell_type": "code",
   "execution_count": 1,
   "id": "8e894662",
   "metadata": {},
   "outputs": [],
   "source": [
    "from qiskit import *\n",
    "from qiskit.providers.fake_provider import FakeManila, FakeKolkata, FakeSherbrooke\n",
    "from qiskit_ibm_provider import IBMProvider\n",
    "\n",
    "import mthree\n",
    "from mthree.utils import *\n",
    "from mthree.generators.random import RandomGenerator, RandomComplimentGenerator\n",
    "from mthree.generators import HadamardGenerator\n",
    "from mthree._helpers import system_info\n",
    "\n",
    "from qiskit.primitives import BackendEstimator\n",
    "from qiskit.quantum_info import SparsePauliOp\n",
    "from qiskit_aer.noise import NoiseModel\n",
    "from qiskit_ibm_runtime import QiskitRuntimeService, Estimator, Session, Options\n",
    "\n",
    "from mthree.twirling.tw_calibrations import Tw_Calibration\n",
    "from mthree.twirling.tw_circuits import Tw_Circuit\n",
    "from mthree.twirling.tw_utils import vals_from_dict\n",
    "from mthree.twirling.tw_utils import convert_to_probabilities, total_variation_distance, marginalize_calibration_counts"
   ]
  },
  {
   "cell_type": "code",
   "execution_count": 2,
   "id": "ba58b779",
   "metadata": {},
   "outputs": [],
   "source": [
    "provider = IBMProvider()\n",
    "backend = FakeKolkata()"
   ]
  },
  {
   "cell_type": "code",
   "execution_count": 3,
   "id": "9f7c2c5d",
   "metadata": {},
   "outputs": [],
   "source": [
    "def donothing(N):\n",
    "    qc = QuantumCircuit(N, N)\n",
    "    for i in range(N):\n",
    "        qc.measure(i,i)\n",
    "    trans_qc = transpile(qc, backend, optimization_level=3, seed_transpiler=12345)\n",
    "    return trans_qc\n",
    "\n",
    "def GHZ(N):\n",
    "    qc = QuantumCircuit(N, N)\n",
    "    qc.h(0)\n",
    "    for i in range(1,N):\n",
    "        qc.cx(0,i)\n",
    "    for i in range(N):\n",
    "        qc.measure(i,i)\n",
    "    trans_qc = transpile(qc, backend, optimization_level=3, seed_transpiler=12345)\n",
    "    return trans_qc\n",
    "\n",
    "def m3circuit(N):\n",
    "    qc = QuantumCircuit(N, N)\n",
    "    qc.x(range(N))\n",
    "    qc.h(range(N))\n",
    "\n",
    "    for kk in range(N // 2, 0, -1):\n",
    "        qc.ch(kk, kk - 1)\n",
    "    for kk in range(N // 2, N - 1):\n",
    "        qc.ch(kk, kk + 1)\n",
    "    for i in range(N):\n",
    "        qc.measure(i,i)\n",
    "    trans_qc = transpile(qc, backend, optimization_level=3, seed_transpiler=12345)\n",
    "    return trans_qc\n",
    "\n",
    "def untranspiled_donothing(N):\n",
    "    qc = QuantumCircuit(N, N)\n",
    "    for i in range(N):\n",
    "        qc.measure(i,i)\n",
    "    return qc\n",
    "\n",
    "def untranspiled_GHZ(N):\n",
    "    qc = QuantumCircuit(N, N)\n",
    "    qc.h(0)\n",
    "    for i in range(1,N):\n",
    "        qc.cx(0,i)\n",
    "    for i in range(N):\n",
    "        qc.measure(i,i)\n",
    "    return qc\n",
    "\n",
    "def untranspiled_m3circuit(N):\n",
    "    qc = QuantumCircuit(N, N)\n",
    "    qc.x(range(N))\n",
    "    qc.h(range(N))\n",
    "\n",
    "    for kk in range(N // 2, 0, -1):\n",
    "        qc.ch(kk, kk - 1)\n",
    "    for kk in range(N // 2, N - 1):\n",
    "        qc.ch(kk, kk + 1)\n",
    "    for i in range(N):\n",
    "        qc.measure(i,i)\n",
    "    return qc\n",
    "\n",
    "def ManyParallel_uint2bits(in_intAr,Nbits):\n",
    "    ''' convert (numpyarray of uint => array of Nbits bits) for many bits in parallel'''\n",
    "    inSize_T= in_intAr.shape\n",
    "    in_intAr_flat=in_intAr.flatten()\n",
    "    out_NbitAr= np.zeros((len(in_intAr_flat),Nbits))\n",
    "    for iBits in range(Nbits):\n",
    "        out_NbitAr[:,iBits]= (in_intAr_flat>>iBits)&1\n",
    "    out_NbitAr= out_NbitAr.reshape(inSize_T+(Nbits,))\n",
    "    out_NbitAr = np.flip(out_NbitAr)\n",
    "    return out_NbitAr.astype('uint8')\n",
    "\n",
    "class CompleteGenerator:\n",
    "    \"\"\"Complete bit-array generator with every bit array\"\"\"\n",
    "\n",
    "    def __init__(self, num_qubits, seed=None):\n",
    "        \"\"\"Generator of random arrays corresponding to random x-gates on\n",
    "        qubits for TexMex mitigation\n",
    "\n",
    "        Parameters:\n",
    "            num_qubits (int): Number of qubits\n",
    "            seed (int): seed for RNG, default=None\n",
    "\n",
    "        Attributes:\n",
    "            num_qubits (int): Number of qubits / length of arrays\n",
    "            length (int): Total number of generated arrays, default=16\n",
    "            seed (int): Seed used for RNG\n",
    "        \"\"\"\n",
    "        self.name = \"random\"\n",
    "        self.seed = seed\n",
    "        if self.seed is None:\n",
    "            self.seed = np.random.randint(0, np.iinfo(np.int32).max)\n",
    "        self._RNG = np.random.default_rng(seed=self.seed)\n",
    "        self.num_qubits = num_qubits\n",
    "        self.length = 2**num_qubits\n",
    "        self._iter_index = 0\n",
    "\n",
    "    def __iter__(self):\n",
    "        self._RNG = np.random.default_rng(seed=self.seed)\n",
    "        self._iter_index = 0\n",
    "        return self\n",
    "\n",
    "    def __next__(self):\n",
    "        if self._iter_index < self.length:\n",
    "            self._iter_index += 1\n",
    "            return ManyParallel_uint2bits(np.asarray(self._iter_index),self.num_qubits)\n",
    "        else:\n",
    "            raise StopIteration\n",
    "        \n",
    "def all_z_op(qc, num_backend_qubits):\n",
    "    operator_string = list(num_backend_qubits*'I')\n",
    "    for key,value in final_measurement_mapping(qc).items():\n",
    "        little_endian_index = num_backend_qubits-1-value\n",
    "        operator_string[little_endian_index] = 'Z'\n",
    "    operator_string = \"\".join(operator_string)\n",
    "    op = SparsePauliOp.from_list([(operator_string, 1)])\n",
    "    return op"
   ]
  },
  {
   "cell_type": "code",
   "execution_count": 4,
   "id": "c5c5bb47",
   "metadata": {},
   "outputs": [
    {
     "name": "stdout",
     "output_type": "stream",
     "text": [
      "[24, 16, 20, 22, 19, 25, 26, 23]\n"
     ]
    },
    {
     "name": "stderr",
     "output_type": "stream",
     "text": [
      "/opt/homebrew/lib/python3.11/site-packages/numpy/linalg/linalg.py:2154: RuntimeWarning: divide by zero encountered in det\n",
      "  r = _umath_linalg.det(a, signature=signature)\n",
      "/opt/homebrew/lib/python3.11/site-packages/numpy/linalg/linalg.py:2154: RuntimeWarning: invalid value encountered in det\n",
      "  r = _umath_linalg.det(a, signature=signature)\n"
     ]
    }
   ],
   "source": [
    "N=8\n",
    "qc = GHZ(N)\n",
    "#qc = m3circuit(N)\n",
    "measurement_map = final_measurement_mapping(qc)\n",
    "qubits_to_calibrate = vals_from_dict(measurement_map)\n",
    "print(qubits_to_calibrate)"
   ]
  },
  {
   "cell_type": "code",
   "execution_count": 5,
   "id": "61d37fa0",
   "metadata": {},
   "outputs": [
    {
     "name": "stdout",
     "output_type": "stream",
     "text": [
      "(0.8958569807037458, 0.07903952593635666)\n"
     ]
    }
   ],
   "source": [
    "tw_circuit = Tw_Circuit(backend, circuit=qc, generator=HadamardGenerator)\n",
    "tw_circuit.tw_data_from_backend(shots=2**13)\n",
    "tw_counts = tw_circuit.to_untwirled_data()\n",
    "\n",
    "tw_cal = Tw_Calibration(backend, qubits=qubits_to_calibrate, generator=HadamardGenerator)\n",
    "tw_cal.tw_data_from_backend(shots=2**13)\n",
    "tw_calib_counts = tw_cal.to_untwirled_data()\n",
    "\n",
    "tw_results = tw_cal.tw_expval_and_stddev(counts=tw_circuit.to_untwirled_data(), operator=N*'Z', mapping=measurement_map)  \n",
    "print(tw_results)"
   ]
  },
  {
   "cell_type": "code",
   "execution_count": 6,
   "id": "df9505e5",
   "metadata": {},
   "outputs": [],
   "source": [
    "complete_tw_circuit = Tw_Circuit(backend, circuit=qc, generator=CompleteGenerator)\n",
    "complete_tw_circuit.tw_data_from_backend(shots=2**16)\n",
    "complete_tw_counts = complete_tw_circuit.to_untwirled_data()\n",
    "ground_truth = convert_to_probabilities(complete_tw_counts)\n",
    "\n",
    "mit = mthree.M3Mitigation(backend)\n",
    "mit.cals_from_system(measurement_map, shots=2**16)"
   ]
  },
  {
   "cell_type": "code",
   "execution_count": 7,
   "id": "fb1cc306",
   "metadata": {},
   "outputs": [
    {
     "data": {
      "text/plain": [
       "((0.9164008177503066, 0.013159833886287598),\n",
       " (0.9244374199472409, 0.013143628315831195))"
      ]
     },
     "execution_count": 7,
     "metadata": {},
     "output_type": "execute_result"
    }
   ],
   "source": [
    "untw_counts = execute(qc, backend, shots=8192).result().get_counts()\n",
    "\n",
    "tw_circuit = Tw_Circuit(backend, circuit=qc, generator=HadamardGenerator)\n",
    "tw_circuit.tw_data_from_backend(shots=8192)\n",
    "tw_counts = tw_circuit.to_untwirled_data()\n",
    "\n",
    "mit_untw_counts = mit.apply_correction(untw_counts, qubits=qubits_to_calibrate, return_mitigation_overhead=True)\n",
    "mit_tw_counts = mit.apply_correction(tw_counts, qubits=qubits_to_calibrate, return_mitigation_overhead=True)\n",
    "\n",
    "mit_untw_counts.expval_and_stddev(N*'Z'), mit_tw_counts.expval_and_stddev(N*'Z')\n",
    "#total_variation_distance(mit_untw_counts, ground_truth), total_variation_distance(mit_tw_counts, ground_truth)"
   ]
  },
  {
   "cell_type": "code",
   "execution_count": 8,
   "id": "21db6d4a",
   "metadata": {},
   "outputs": [
    {
     "data": {
      "text/plain": [
       "(0.07126040869177229, 0.07022352614867415)"
      ]
     },
     "execution_count": 8,
     "metadata": {},
     "output_type": "execute_result"
    }
   ],
   "source": [
    "trials = 100\n",
    "untw_tvds = []\n",
    "tw_tvds = []\n",
    "\n",
    "for _ in range(trials):\n",
    "    untw_counts = execute(qc, backend, shots=8192).result().get_counts()\n",
    "\n",
    "    tw_circuit = Tw_Circuit(backend, circuit=qc, generator=HadamardGenerator)\n",
    "    tw_circuit.tw_data_from_backend(shots=8192)\n",
    "    tw_counts = tw_circuit.to_untwirled_data()\n",
    "\n",
    "    mit_untw_counts = mit.apply_correction(untw_counts, qubits=qubits_to_calibrate, return_mitigation_overhead=True)\n",
    "    mit_tw_counts = mit.apply_correction(tw_counts, qubits=qubits_to_calibrate, return_mitigation_overhead=True)\n",
    "    \n",
    "    untw_tvds.append(total_variation_distance(mit_untw_counts, ground_truth))\n",
    "    tw_tvds.append(total_variation_distance(mit_tw_counts, ground_truth))\n",
    "\n",
    "np.average(untw_tvds), np.average(tw_tvds)"
   ]
  },
  {
   "cell_type": "code",
   "execution_count": 9,
   "id": "9886d3a4",
   "metadata": {},
   "outputs": [],
   "source": [
    "from qiskit import Aer\n",
    "from qiskit.visualization import plot_histogram\n",
    "from qiskit_aer import AerSimulator\n",
    "import qiskit_aer.noise as noise\n",
    "\n",
    "# Build noise model from backend properties\n",
    "backend = FakeKolkata()\n",
    "noise_model = NoiseModel.from_backend(backend)\n",
    "num_backend_qubits = system_info(backend)[\"num_qubits\"]\n",
    "\n",
    "# Get coupling map from backend\n",
    "# coupling_map = backend.configuration().coupling_map\n",
    "\n",
    "# Error probabilities\n",
    "prob_1 = 0.001  # 1-qubit gate\n",
    "prob_2 = 0.01   # 2-qubit gate\n",
    "prob_3 = 0.05  # bit flip readout\n",
    "readout_probabilities = [[1-prob_3, prob_3], [prob_3, 1-prob_3]]   # measurement error \n",
    "\n",
    "# Depolarizing and Readout quantum errors\n",
    "error_1 = noise.depolarizing_error(prob_1, 1)\n",
    "error_2 = noise.depolarizing_error(prob_2, 2)\n",
    "error_3 = noise.ReadoutError(readout_probabilities)\n",
    "\n",
    "# Add errors to noise model\n",
    "noise_model = noise.NoiseModel()\n",
    "#noise_model.add_all_qubit_quantum_error(error_1, ['u1', 'u2', 'u3'])\n",
    "#noise_model.add_all_qubit_quantum_error(error_2, ['cx'])\n",
    "noise_model.add_all_qubit_readout_error(error_3)\n",
    "\n",
    "# Get basis gates from noise model\n",
    "basis_gates = noise_model.basis_gates\n",
    "\n",
    "# Set options for trex\n",
    "options = Options()\n",
    "options.simulator = {\n",
    "    \"noise_model\": noise_model,\n",
    "    \"seed_simulator\": 42\n",
    "}\n",
    "options.execution.shots = 2**13\n",
    "options.optimization_level = 0 # no optimization\n",
    "options.resilience_level = 1 # M3 for Sampler and T-REx for Estimator"
   ]
  },
  {
   "cell_type": "code",
   "execution_count": 19,
   "id": "5d46be19",
   "metadata": {},
   "outputs": [
    {
     "name": "stdout",
     "output_type": "stream",
     "text": [
      "0.129241943359375\n",
      "0.03270826686567064\n"
     ]
    }
   ],
   "source": [
    "N=20\n",
    "#qc = untranspiled_GHZ(N)\n",
    "qc = untranspiled_donothing(N)\n",
    "\n",
    "# Perform a noise simulation\n",
    "backend = AerSimulator(noise_model=noise_model, basis_gates=basis_gates)\n",
    "transpiled_circuit = transpile(qc, backend)\n",
    "result = backend.run(transpiled_circuit, shots=2**16).result()\n",
    "counts = result.get_counts()\n",
    "print(expval(items=counts, exp_ops=N*'Z'))\n",
    "#plot_histogram(counts)\n",
    "print(np.sqrt(2*np.log(4/0.05)/2**13))"
   ]
  },
  {
   "cell_type": "code",
   "execution_count": 11,
   "id": "f4e3aa9a",
   "metadata": {},
   "outputs": [],
   "source": [
    "measurement_map = final_measurement_mapping(transpiled_circuit)\n",
    "qubits_to_calibrate = vals_from_dict(measurement_map)\n",
    "\n",
    "mit = mthree.M3Mitigation(backend)\n",
    "mit.cals_from_system(measurement_map, shots=2**16)"
   ]
  },
  {
   "cell_type": "code",
   "execution_count": 12,
   "id": "21ef0960",
   "metadata": {},
   "outputs": [
    {
     "data": {
      "text/plain": [
       "((0.9036838925083749, 0.06913109358580186),\n",
       " (0.9204946819457211, 0.06901661035317896))"
      ]
     },
     "execution_count": 12,
     "metadata": {},
     "output_type": "execute_result"
    }
   ],
   "source": [
    "untw_counts = execute(transpiled_circuit, backend, shots=2**13).result().get_counts()\n",
    "\n",
    "tw_circuit = Tw_Circuit(backend, circuit=transpiled_circuit, generator=HadamardGenerator)\n",
    "tw_circuit.tw_data_from_backend(shots=2**13)\n",
    "tw_counts = tw_circuit.to_untwirled_data()\n",
    "\n",
    "m3_untw_counts = mit.apply_correction(untw_counts, qubits=qubits_to_calibrate, return_mitigation_overhead=True)\n",
    "m3_tw_counts = mit.apply_correction(tw_counts, qubits=qubits_to_calibrate, return_mitigation_overhead=True)\n",
    "\n",
    "m3_untw_counts.expval_and_stddev(N*'Z'), m3_tw_counts.expval_and_stddev(N*'Z')"
   ]
  },
  {
   "cell_type": "code",
   "execution_count": 13,
   "id": "3f9fbc76",
   "metadata": {},
   "outputs": [],
   "source": [
    "tw_cal = Tw_Calibration(backend, qubits=qubits_to_calibrate, generator=HadamardGenerator)\n",
    "tw_cal.tw_data_from_backend(shots=2**16)\n",
    "tw_calib_counts = tw_cal.to_untwirled_data()\n",
    "calib_map = tw_cal.physical_to_bit_mapping"
   ]
  },
  {
   "cell_type": "code",
   "execution_count": 14,
   "id": "7ff03e35",
   "metadata": {},
   "outputs": [
    {
     "name": "stdout",
     "output_type": "stream",
     "text": [
      "(1.0447011551983927, 0.40263407388431305)\n"
     ]
    }
   ],
   "source": [
    "tw_circuit = Tw_Circuit(backend, circuit=transpiled_circuit, generator=HadamardGenerator)\n",
    "tw_circuit.tw_data_from_backend(shots=2**13)\n",
    "tw_counts = tw_circuit.to_untwirled_data()\n",
    "\n",
    "tw_results = tw_cal.tw_expval_and_stddev(counts=tw_circuit.to_untwirled_data(), operator=N*'Z', mapping=measurement_map)  \n",
    "print(tw_results)"
   ]
  },
  {
   "cell_type": "code",
   "execution_count": 15,
   "id": "37d1c8a3",
   "metadata": {},
   "outputs": [
    {
     "name": "stdout",
     "output_type": "stream",
     "text": [
      "1.0029331993972879 0.0820083885543406\n"
     ]
    }
   ],
   "source": [
    "trials = 100\n",
    "tw_vals = []\n",
    "\n",
    "for _ in range(trials):\n",
    "    tw_circuit = Tw_Circuit(backend, circuit=transpiled_circuit, generator=HadamardGenerator)\n",
    "    tw_circuit.tw_data_from_backend(shots=8192)\n",
    "    tw_counts = tw_circuit.to_untwirled_data()\n",
    "\n",
    "    tw_vals.append(tw_cal.tw_expval(counts=tw_counts, operator=N*'Z', mapping=measurement_map))\n",
    "\n",
    "print(np.average(tw_vals), np.std(tw_vals))"
   ]
  },
  {
   "cell_type": "code",
   "execution_count": 16,
   "id": "75a38050",
   "metadata": {},
   "outputs": [
    {
     "name": "stdout",
     "output_type": "stream",
     "text": [
      "0.8969296495702881 0.044260277833133\n",
      "0.8974904606068741 0.05011601166611282\n"
     ]
    }
   ],
   "source": [
    "trials = 100\n",
    "m3_untw_vals = []\n",
    "m3_tw_vals = []\n",
    "\n",
    "for _ in range(trials):\n",
    "    untw_counts = execute(transpiled_circuit, backend, shots=8192).result().get_counts()\n",
    "\n",
    "    tw_circuit = Tw_Circuit(backend, circuit=transpiled_circuit, generator=HadamardGenerator)\n",
    "    tw_circuit.tw_data_from_backend(shots=8192)\n",
    "    tw_counts = tw_circuit.to_untwirled_data()\n",
    "\n",
    "    mit_untw_counts = mit.apply_correction(untw_counts, qubits=qubits_to_calibrate, return_mitigation_overhead=True)\n",
    "    mit_tw_counts = mit.apply_correction(tw_counts, qubits=qubits_to_calibrate, return_mitigation_overhead=True)\n",
    "    \n",
    "    m3_untw_vals.append(mit_untw_counts.expval(N*'Z'))\n",
    "    m3_tw_vals.append(mit_tw_counts.expval(N*'Z'))\n",
    "\n",
    "print(np.average(m3_untw_vals), np.std(m3_untw_vals))\n",
    "print(np.average(m3_tw_vals), np.std(m3_tw_vals))"
   ]
  },
  {
   "cell_type": "code",
   "execution_count": 17,
   "id": "61ae1912",
   "metadata": {},
   "outputs": [
    {
     "name": "stdout",
     "output_type": "stream",
     "text": [
      "0.009121739191942055\n",
      "(1.0598936170212767, 0.08848167232658621)\n"
     ]
    }
   ],
   "source": [
    "trials=100\n",
    "\n",
    "with Session(backend=\"ibmq_qasm_simulator\"):\n",
    "    # include the noise model with T-REx\n",
    "    estimator = Estimator(options=options)\n",
    "    job = estimator.run(circuits=trials*[transpiled_circuit], observables=trials*[N*'Z'])\n",
    "    result = job.result()\n",
    "    metadata = result.metadata\n",
    "    estimated_variance = metadata[0][\"variance\"] / metadata[0][\"shots\"]\n",
    "    print(estimated_variance)\n",
    "    trex_expval_and_stddev = np.average(result.values), np.std(result.values)\n",
    "    print(trex_expval_and_stddev)"
   ]
  },
  {
   "cell_type": "code",
   "execution_count": 18,
   "id": "1cb5cdd1",
   "metadata": {},
   "outputs": [
    {
     "name": "stdout",
     "output_type": "stream",
     "text": [
      "0.03270826686567064\n"
     ]
    },
    {
     "data": {
      "text/plain": [
       "0.9996727741335084"
      ]
     },
     "execution_count": 18,
     "metadata": {},
     "output_type": "execute_result"
    }
   ],
   "source": [
    "def D(p,q):\n",
    "    return p*np.log(p/q)+(1-p)*np.log((1-p)/(1-q))\n",
    "\n",
    "alpha=0.0327\n",
    "p=0.5\n",
    "d_target = np.log(4/0.05)/2**13\n",
    "alpha_hoeff = np.sqrt(2*d_target)\n",
    "print(alpha_hoeff)\n",
    "\n",
    "D(p+alpha/2,p)/d_target"
   ]
  }
 ],
 "metadata": {
  "kernelspec": {
   "display_name": "Python 3 (ipykernel)",
   "language": "python",
   "name": "python3"
  },
  "language_info": {
   "codemirror_mode": {
    "name": "ipython",
    "version": 3
   },
   "file_extension": ".py",
   "mimetype": "text/x-python",
   "name": "python",
   "nbconvert_exporter": "python",
   "pygments_lexer": "ipython3",
   "version": "3.11.3"
  }
 },
 "nbformat": 4,
 "nbformat_minor": 5
}
