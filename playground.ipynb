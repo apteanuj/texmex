{
 "cells": [
  {
   "cell_type": "code",
   "execution_count": 11,
   "id": "8e894662",
   "metadata": {},
   "outputs": [],
   "source": [
    "from qiskit import *\n",
    "from qiskit.providers.fake_provider import FakeManila, FakeKolkata\n",
    "from qiskit_ibm_provider import IBMProvider\n",
    "\n",
    "import mthree\n",
    "from mthree.utils import *\n",
    "from mthree.generators.random import RandomGenerator, RandomComplimentGenerator\n",
    "from mthree.generators import HadamardGenerator\n",
    "from mthree._helpers import system_info\n",
    "\n",
    "from mthree.twirling.tw_calibrations import Tw_Calibration\n",
    "from mthree.twirling.tw_circuits import Tw_Circuits\n",
    "from mthree.twirling.tw_utils import flatten_with_sum, minimal_qubits_to_calib, tw_expval\n",
    "\n",
    "from qiskit.primitives import BackendEstimator\n",
    "from qiskit.quantum_info import SparsePauliOp\n",
    "from qiskit_aer.noise import NoiseModel\n",
    "from qiskit_ibm_runtime import QiskitRuntimeService, Estimator, Session, Options\n",
    "\n",
    "import matplotlib.pyplot as plt "
   ]
  },
  {
   "cell_type": "code",
   "execution_count": 12,
   "id": "ba58b779",
   "metadata": {},
   "outputs": [],
   "source": [
    "provider = IBMProvider()\n",
    "backend = FakeKolkata()\n",
    "#backend = provider.get_backend('ibm_seattle')\n",
    "#backend = provider.get_backend('ibm_nazca')\n",
    "#len(backend.properties().qubits)"
   ]
  },
  {
   "cell_type": "code",
   "execution_count": 13,
   "id": "fe1c2a3b",
   "metadata": {},
   "outputs": [],
   "source": [
    "def all_z_op_string(qc, num_backend_qubits):\n",
    "    operator_string = list(num_backend_qubits*'I')\n",
    "    for key,value in final_measurement_mapping(qc).items():\n",
    "        little_endian_index = num_backend_qubits-1-value\n",
    "        operator_string[little_endian_index] = 'Z'\n",
    "    operator_string = \"\".join(operator_string)\n",
    "    return operator_string\n",
    "\n",
    "def all_z_op(qc, num_backend_qubits):\n",
    "    operator_string = list(num_backend_qubits*'I')\n",
    "    for key,value in final_measurement_mapping(qc).items():\n",
    "        little_endian_index = num_backend_qubits-1-value\n",
    "        operator_string[little_endian_index] = 'Z'\n",
    "    operator_string = \"\".join(operator_string)\n",
    "    op = SparsePauliOp.from_list([(operator_string, 1)])\n",
    "    return op\n",
    "\n",
    "def all_z_op_list(qc_list, num_backend_qubits):\n",
    "    all_z_op_list = []\n",
    "    for qc in qc_list:\n",
    "        all_z_op_list.append(all_z_op(qc,num_backend_qubits))\n",
    "    return all_z_op_list\n",
    "\n",
    "\n",
    "def extract_element(loc, arr):\n",
    "    # extract all elements at location loc from an array of arrays \n",
    "    return np.array([sub_arr[loc] if len(sub_arr) >= loc+1 else None for sub_arr in arr])\n",
    "\n",
    "def chop_dict_length(dict_list, length):\n",
    "    \"\"\"\n",
    "    Chop up a list of dictionaries into a list of list of dictionaries each of the given length\n",
    "\n",
    "    Parameters:\n",
    "        length (int): Integer specifying the length of sublists.\n",
    "        dict_list (list): List of dictionaries.\n",
    "\n",
    "    Returns:\n",
    "        list: List of list of dictionaries.\n",
    "    \"\"\"\n",
    "    result = []\n",
    "    remaining_dicts = dict_list[:]\n",
    "    while len(remaining_dicts)>=length:\n",
    "        sublist = remaining_dicts[:length]\n",
    "        result.append(sublist)\n",
    "        remaining_dicts = remaining_dicts[length:]\n",
    "    return result"
   ]
  },
  {
   "cell_type": "code",
   "execution_count": 14,
   "id": "5b5b09a0",
   "metadata": {},
   "outputs": [],
   "source": [
    "def GHZ(N):\n",
    "    qc = QuantumCircuit(N, N)\n",
    "    qc.h(0)\n",
    "    for i in range(1,N):\n",
    "        qc.cx(0,i)\n",
    "    for i in range(N):\n",
    "        qc.measure(i,i)\n",
    "    trans_qc = transpile(qc, backend, optimization_level=3, seed_transpiler=12345)\n",
    "    return trans_qc\n",
    "\n",
    "def m3circuit(N):\n",
    "    qc = QuantumCircuit(N, N)\n",
    "    qc.x(range(N))\n",
    "    qc.h(range(N))\n",
    "\n",
    "    for kk in range(N // 2, 0, -1):\n",
    "        qc.ch(kk, kk - 1)\n",
    "    for kk in range(N // 2, N - 1):\n",
    "        qc.ch(kk, kk + 1)\n",
    "    for i in range(N):\n",
    "        qc.measure(i,i)\n",
    "    trans_qc = transpile(qc, backend, optimization_level=3, seed_transpiler=12345)\n",
    "    return trans_qc\n",
    "\n",
    "def donothing(N):\n",
    "    qc = QuantumCircuit(N, N)\n",
    "    for i in range(N):\n",
    "        qc.measure(i,i)\n",
    "    trans_qc = transpile(qc, backend, optimization_level=3, seed_transpiler=12345)\n",
    "    return trans_qc\n",
    "\n",
    "def untranspiled_GHZ(N):\n",
    "    qc = QuantumCircuit(N, N)\n",
    "    qc.h(0)\n",
    "    for i in range(1,N):\n",
    "        qc.cx(0,i)\n",
    "    for i in range(N):\n",
    "        qc.measure(i,i)\n",
    "    return qc\n",
    "\n",
    "def untranspiled_m3circuit(N):\n",
    "    qc = QuantumCircuit(N, N)\n",
    "    qc.x(range(N))\n",
    "    qc.h(range(N))\n",
    "\n",
    "    for kk in range(N // 2, 0, -1):\n",
    "        qc.ch(kk, kk - 1)\n",
    "    for kk in range(N // 2, N - 1):\n",
    "        qc.ch(kk, kk + 1)\n",
    "    for i in range(N):\n",
    "        qc.measure(i,i)\n",
    "    return qc\n",
    "\n",
    "def untranspiled_donothing(N):\n",
    "    qc = QuantumCircuit(N, N)\n",
    "    for i in range(N):\n",
    "        qc.measure(i,i)\n",
    "    return qc"
   ]
  },
  {
   "cell_type": "code",
   "execution_count": 15,
   "id": "f14c97dc",
   "metadata": {},
   "outputs": [],
   "source": [
    "def convert_to_probabilities(counts):\n",
    "    total_counts = sum(counts.values())\n",
    "    probabilities = {bitstring: count / total_counts for bitstring, count in counts.items()}\n",
    "    return probabilities\n",
    "\n",
    "def total_variation_distance(counts1, counts2):\n",
    "    probabilities1 = convert_to_probabilities(counts1)\n",
    "    probabilities2 = convert_to_probabilities(counts2)\n",
    "    all_keys = set(probabilities1.keys()).union(set(probabilities2.keys()))\n",
    "    tv_distance = 0.0\n",
    "    for bitstring in all_keys:\n",
    "        prob1 = probabilities1.get(bitstring, 0.0)\n",
    "        prob2 = probabilities2.get(bitstring, 0.0)\n",
    "        tv_distance += abs(prob1 - prob2)\n",
    "    return tv_distance / 2.0\n",
    "\n",
    "def kl_divergence(counts1, counts2):\n",
    "    probabilities1 = convert_to_probabilities(counts1)\n",
    "    probabilities2 = convert_to_probabilities(counts2)\n",
    "    kl_divergence = 0.0\n",
    "    for bitstring in probabilities1.keys():\n",
    "        prob1 = probabilities1.get(bitstring, 0.0)\n",
    "        prob2 = probabilities2.get(bitstring, 0.0)\n",
    "        if prob2==0:\n",
    "            return np.inf\n",
    "        else:\n",
    "            kl_divergence += prob1*np.log(prob1/prob2)\n",
    "    return kl_divergence"
   ]
  },
  {
   "cell_type": "code",
   "execution_count": 16,
   "id": "a2201d4e",
   "metadata": {},
   "outputs": [],
   "source": [
    "def ManyParallel_uint2bits(in_intAr,Nbits):\n",
    "    ''' convert (numpyarray of uint => array of Nbits bits) for many bits in parallel'''\n",
    "    inSize_T= in_intAr.shape\n",
    "    in_intAr_flat=in_intAr.flatten()\n",
    "    out_NbitAr= np.zeros((len(in_intAr_flat),Nbits))\n",
    "    for iBits in range(Nbits):\n",
    "        out_NbitAr[:,iBits]= (in_intAr_flat>>iBits)&1\n",
    "    out_NbitAr= out_NbitAr.reshape(inSize_T+(Nbits,))\n",
    "    out_NbitAr = np.flip(out_NbitAr)\n",
    "    return out_NbitAr.astype('uint8')\n",
    "\n",
    "class CompleteGenerator:\n",
    "    \"\"\"Complete bit-array generator with every bit array\"\"\"\n",
    "\n",
    "    def __init__(self, num_qubits, seed=None):\n",
    "        \"\"\"Generator of random arrays corresponding to random x-gates on\n",
    "        qubits for TexMex mitigation\n",
    "\n",
    "        Parameters:\n",
    "            num_qubits (int): Number of qubits\n",
    "            seed (int): seed for RNG, default=None\n",
    "\n",
    "        Attributes:\n",
    "            num_qubits (int): Number of qubits / length of arrays\n",
    "            length (int): Total number of generated arrays, default=16\n",
    "            seed (int): Seed used for RNG\n",
    "        \"\"\"\n",
    "        self.name = \"random\"\n",
    "        self.seed = seed\n",
    "        if self.seed is None:\n",
    "            self.seed = np.random.randint(0, np.iinfo(np.int32).max)\n",
    "        self._RNG = np.random.default_rng(seed=self.seed)\n",
    "        self.num_qubits = num_qubits\n",
    "        self.length = 2**num_qubits\n",
    "        self._iter_index = 0\n",
    "\n",
    "    def __iter__(self):\n",
    "        self._RNG = np.random.default_rng(seed=self.seed)\n",
    "        self._iter_index = 0\n",
    "        return self\n",
    "\n",
    "    def __next__(self):\n",
    "        if self._iter_index < self.length:\n",
    "            self._iter_index += 1\n",
    "            return ManyParallel_uint2bits(np.asarray(self._iter_index),self.num_qubits)\n",
    "        else:\n",
    "            raise StopIteration"
   ]
  },
  {
   "cell_type": "code",
   "execution_count": 17,
   "id": "285432cf",
   "metadata": {},
   "outputs": [
    {
     "name": "stdout",
     "output_type": "stream",
     "text": [
      "1024\n"
     ]
    }
   ],
   "source": [
    "gen = CompleteGenerator(num_qubits=10)\n",
    "print(len(list(gen)))\n",
    "#gen = RandomGenerator(num_qubits=3, num_arrays=5)"
   ]
  },
  {
   "cell_type": "code",
   "execution_count": 42,
   "id": "dc08edfd",
   "metadata": {},
   "outputs": [
    {
     "name": "stdout",
     "output_type": "stream",
     "text": [
      "{'11001': 11, '01010': 403, '10011': 16, '00101': 313, '00011': 487, '00100': 29358, '11000': 721, '10001': 830, '01100': 247, '10010': 973, '00001': 38781, '01001': 362, '10000': 83170, '10100': 602, '00000': 3953967, '00010': 48234, '00110': 373, '01000': 35407, '11010': 13, '01011': 5, '01101': 7, '11100': 8, '10101': 4, '10110': 3, '01110': 4, '11011': 1, '00111': 4}\n"
     ]
    }
   ],
   "source": [
    "N=5\n",
    "qubits_for_calib = range(N)\n",
    "\n",
    "all_tw_qc = Tw_Calibration(backend, qubits = qubits_for_calib, generator=CompleteGenerator)\n",
    "all_tw_qc.tw_calibrate_from_backend(shots=2**17)\n",
    "all_data = all_tw_qc.to_tw_calibration()\n",
    "\n",
    "# all_tw_qc = Tw_Circuits(backend, circuits=m3circuit(N),  generator=CompleteGenerator)\n",
    "# all_tw_qc.tw_data_from_backend(shots=2**15)\n",
    "# all_data = all_tw_qc.to_tw_circuits_data()\n",
    "# all_data = all_data[0]\n",
    "print(all_data)\n",
    "\n",
    "def random_tvd(gen_length, trials, total_calib_shots):\n",
    "    tvds = []\n",
    "    for _ in range(trials):\n",
    "        tw_qc = Tw_Calibration(backend, qubits = qubits_for_calib, generator=RandomGenerator, num_random_circuits=gen_length)\n",
    "        tw_qc.tw_calibrate_from_backend(shots=int(total_calib_shots/gen_length))\n",
    "        # tw_qc = Tw_Calibration(backend, qubits = qubits_for_calib, generator=HadamardGenerator)\n",
    "        # tw_qc.tw_calibrate_from_backend(shots=int(total_calib_shots/8))\n",
    "        data = tw_qc.to_tw_calibration()\n",
    "\n",
    "        # tw_qc = Tw_Circuits(backend, circuits=m3circuit(N),  generator=RandomGenerator, num_random_circuits=gen_length)\n",
    "        # tw_qc.tw_data_from_backend(shots=int(total_calib_shots/gen_length))\n",
    "        # data = tw_qc.to_tw_circuits_data()\n",
    "        # data = data[0]\n",
    "        \n",
    "        tvds.append(total_variation_distance(all_data, data))\n",
    "    return np.average(tvds), np.std(tvds)\n",
    "\n",
    "def random_compliment_tvd(gen_length, trials, total_calib_shots):\n",
    "    tvds = []\n",
    "    for _ in range(trials):\n",
    "        tw_qc = Tw_Calibration(backend, qubits = qubits_for_calib, generator=RandomComplimentGenerator, num_random_circuits=gen_length)\n",
    "        tw_qc.tw_calibrate_from_backend(shots=int(total_calib_shots/gen_length))\n",
    "        data = tw_qc.to_tw_calibration()\n",
    "\n",
    "        # tw_qc = Tw_Circuits(backend, circuits=m3circuit(N),  generator=RandomComplimentGenerator, num_random_circuits=gen_length)\n",
    "        # tw_qc.tw_data_from_backend(shots=int(total_calib_shots/gen_length))\n",
    "        # data = tw_qc.to_tw_circuits_data()\n",
    "        # data = data[0]\n",
    "        \n",
    "        tvds.append(total_variation_distance(all_data, data))\n",
    "    return np.average(tvds), np.std(tvds)"
   ]
  },
  {
   "cell_type": "code",
   "execution_count": 46,
   "id": "fe3aa05d",
   "metadata": {},
   "outputs": [],
   "source": [
    "trial_num = 10\n",
    "total_calib_shots = 2**9\n",
    "lengths = [2,4,8,16,32]\n",
    "num = len(lengths)\n",
    "compliment_tvds = np.zeros(num)\n",
    "random_tvds = np.zeros(num) \n",
    "compliment_tvds_std = np.zeros(num)\n",
    "random_tvds_std= np.zeros(num)\n",
    "for i in range(num):\n",
    "    compliment_tvds[i], compliment_tvds_std[i]=random_compliment_tvd(gen_length=lengths[i],trials=trial_num, total_calib_shots=total_calib_shots)\n",
    "    random_tvds[i], random_tvds_std[i]=random_tvd(gen_length=lengths[i],trials=trial_num, total_calib_shots=total_calib_shots)"
   ]
  },
  {
   "cell_type": "code",
   "execution_count": 47,
   "id": "d86f2bd6",
   "metadata": {},
   "outputs": [
    {
     "data": {
      "image/png": "[encoded data removed]",
      "text/plain": [
       "<Figure size 640x480 with 1 Axes>"
      ]
     },
     "metadata": {},
     "output_type": "display_data"
    }
   ],
   "source": [
    "plt.errorbar(lengths, compliment_tvds, yerr=compliment_tvds_std, label='Random Compliment Bitstrings')\n",
    "plt.errorbar(lengths, random_tvds, yerr=random_tvds_std, label='Random Bitstrings')\n",
    "plt.legend()\n",
    "#plt.savefig(\"bitstrings.svg\",bbox_inches =\"tight\", transparent = True, orientation ='landscape')\n",
    "plt.show()"
   ]
  },
  {
   "cell_type": "code",
   "execution_count": 30,
   "id": "f751c48f",
   "metadata": {},
   "outputs": [
    {
     "data": {
      "text/plain": [
       "5"
      ]
     },
     "execution_count": 30,
     "metadata": {},
     "output_type": "execute_result"
    }
   ],
   "source": [
    "# circ_shots = 512\n",
    "# calib_shots = 512\n",
    "\n",
    "# tw_qc = Tw_Circuits(backend, circuits=circuit_list, generator=HadamardGenerator)\n",
    "# tw_qc.tw_data_from_backend(shots=circ_shots)\n",
    "\n",
    "# tw_cal = Tw_Calibration(backend, qubits=qubits_to_calibrate, generator=HadamardGenerator)\n",
    "# tw_cal.tw_calibrate_from_backend(shots=calib_shots)\n",
    "\n",
    "# tw_results = []\n",
    "# for qc,op in zip(unrepeated_circuit_list, unrepeated_op_list):\n",
    "#     tw_results.append(tw_expval(quantum_circ=qc, operator=op, tw_circuits=tw_qc, tw_calibration=tw_cal))\n",
    "\n",
    "# #donothing_nazca_10_20_30_40_July_10_1024_circ_1024_calib = [[[0.7947998046875, 0.9096433935245014, 0.04023773274551807], [0.79443359375, 0.9092242674024659, 0.04023773274551807], [0.7958984375, 0.910900771890608, 0.04023773274551807], [0.798583984375, 0.9139743634522022, 0.04023773274551807], [0.798095703125, 0.9134155286228214, 0.04023773274551807], [0.8006591796875, 0.9163494114770703, 0.04023773274551807], [0.7891845703125, 0.9032167929866229, 0.04023773274551807], [0.796875, 0.9120184415493696, 0.04023773274551807], [0.802001953125, 0.9178862072578673, 0.04023773274551807], [0.8026123046875, 0.9185847507945932, 0.04023773274551807]], [[0.621826171875, 0.9338221814848763, 0.04266696643318427], [0.609619140625, 0.9154903758020165, 0.04266696643318427], [0.6163330078125, 0.9255728689275894, 0.04266696643318427], [0.61138916015625, 0.9181484876260312, 0.04266696643318427], [0.61883544921875, 0.9293308890925757, 0.04266696643318427], [0.62689208984375, 0.9414298808432631, 0.04266696643318427], [0.63128662109375, 0.9480293308890926, 0.04266696643318427], [0.62823486328125, 0.9434463794683776, 0.04266696643318427], [0.6239013671875, 0.9369385884509625, 0.04266696643318427], [0.62762451171875, 0.9425297891842347, 0.04266696643318427]], [[0.48687744140625, 0.9629987324198708, 0.056512323956514586], [0.49798583984375, 0.9849701213255266, 0.056512323956514586], [0.486083984375, 0.9614293474980383, 0.056512323956514586], [0.48602294921875, 0.9613086255809742, 0.056512323956514586], [0.48681640625, 0.9628780105028067, 0.056512323956514586], [0.4830322265625, 0.9553932516448361, 0.056512323956514586], [0.4818115234375, 0.9529788133035553, 0.056512323956514586], [0.479736328125, 0.9488742681233778, 0.056512323956514586], [0.48583984375, 0.9609464598297821, 0.056512323956514586], [0.4881591796875, 0.9655338926782158, 0.056512323956514586]], [[0.363494873046875, 0.9766316825188587, 0.0641331797864957], [0.365936279296875, 0.9831912102328633, 0.0641331797864957], [0.356964111328125, 0.9590849458838964, 0.0641331797864957], [0.3564453125, 0.9576910462446704, 0.0641331797864957], [0.349884033203125, 0.940062315513283, 0.0641331797864957], [0.362701416015625, 0.9744998360118071, 0.0641331797864957], [0.34619140625, 0.9301410298458511, 0.0641331797864957], [0.33612060546875, 0.9030829780255821, 0.0641331797864957], [0.34307861328125, 0.9217776320104952, 0.0641331797864957], [0.341766357421875, 0.9182518858642178, 0.0641331797864957]]]\n",
    "# #donothing_seattle_10_20_30 = [[[0.3515625, 1.1000763941940412, 0.3900842247653776], [0.318359375, 0.9961802902979373, 0.3900842247653776], [0.3046875, 0.9533995416348358, 0.3900842247653776], [0.330078125, 1.0328495034377387, 0.3900842247653776], [0.255859375, 0.80061115355233, 0.3900842247653776], [0.314453125, 0.983957219251337, 0.3900842247653776], [0.333984375, 1.0450725744843392, 0.3900842247653776], [0.30078125, 0.9411764705882353, 0.3900842247653776], [0.2890625, 0.904507257448434, 0.3900842247653776], [0.30859375, 0.9656226126814362, 0.3900842247653776]], [[0.0625, 0.8139904610492846, 1.6502924060746658], [0.0478515625, 0.6232114467408585, 1.6502924060746658], [0.03125, 0.4069952305246423, 1.6502924060746658], [0.0302734375, 0.3942766295707472, 1.6502924060746658], [0.0947265625, 1.2337042925278219, 1.6502924060746658], [0.03515625, 0.4578696343402226, 1.6502924060746658], [0.0732421875, 0.9538950715421304, 1.6502924060746658], [0.0849609375, 1.1065182829888711, 1.6502924060746658], [0.0634765625, 0.8267090620031796, 1.6502924060746658], [0.0732421875, 0.9538950715421304, 1.6502924060746658]], [[0.0517578125, 1.1943661971830986, 4.3819459615657195], [0.009765625, 0.22535211267605634, 4.3819459615657195], [0.0634765625, 1.4647887323943662, 4.3819459615657195], [0.0, 0.0, 4.3819459615657195], [0.0556640625, 1.2845070422535212, 4.3819459615657195], [0.0693359375, 1.6, 4.3819459615657195], [0.0361328125, 0.8338028169014085, 4.3819459615657195], [0.01953125, 0.4507042253521127, 4.3819459615657195], [0.0166015625, 0.38309859154929576, 4.3819459615657195], [0.0400390625, 0.923943661971831, 4.3819459615657195]]]"
   ]
  },
  {
   "cell_type": "code",
   "execution_count": null,
   "id": "5f14b39a",
   "metadata": {},
   "outputs": [],
   "source": [
    "# #print(tw_results)\n",
    "\n",
    "# tw_unmitigated_list = []\n",
    "# tw_mitigated_list = []\n",
    "# for index in range(len(N_arr)):\n",
    "#     tw_unmitigated_vals = extract_element(loc=0, arr=tw_results[index])\n",
    "#     tw_unmitigated_list.append(np.average(tw_unmitigated_vals))\n",
    "#     tw_mitigated_vals = extract_element(loc=1, arr=tw_results[index])\n",
    "#     tw_mitigated_list.append(np.average(tw_mitigated_vals))\n",
    "\n",
    "# plt.semilogy(N_arr, tw_unmitigated_list)\n",
    "# plt.semilogy(N_arr, tw_mitigated_list)\n",
    "# plt.show()\n",
    "    \n",
    "\n",
    "# #tw_mitigated_vals = extract_element(loc=1, arr=tw_results[index])\n",
    "# #print(np.average(tw_mitigated_vals))\n",
    "# #print(2*np.std(tw_mitigated_vals))\n",
    "\n",
    "# #tw_uncertainity_estimates = extract_element(loc=2, arr=tw_results[index])\n",
    "# #print(np.average(tw_uncertainity_estimates))"
   ]
  },
  {
   "cell_type": "code",
   "execution_count": 49,
   "id": "21967c39",
   "metadata": {},
   "outputs": [],
   "source": [
    "# mit = mthree.M3Mitigation(backend)\n",
    "# mit.cals_from_system(qubits=qubits_to_calibrate, shots=8192)\n",
    "\n",
    "# m3_results_bunched = []\n",
    "# for circuit in circuit_list:\n",
    "#     raw_counts = backend.run(circuit, shots=8192).result().get_counts()\n",
    "#     quasi = mit.apply_correction(raw_counts, final_measurement_mapping(circuit), return_mitigation_overhead=True)\n",
    "#     result = quasi.expval_and_stddev()\n",
    "#     m3_results_bunched.append(result)"
   ]
  },
  {
   "cell_type": "code",
   "execution_count": 108,
   "id": "6ff72fad",
   "metadata": {},
   "outputs": [],
   "source": [
    "mit = mthree.M3Mitigation(backend)\n",
    "mit.cals_from_system(qubits=range(5), shots=8192)"
   ]
  },
  {
   "cell_type": "code",
   "execution_count": 50,
   "id": "a69da59f",
   "metadata": {},
   "outputs": [
    {
     "name": "stdout",
     "output_type": "stream",
     "text": [
      "[(0.3819700980930373, 0.014094707042488315), (0.36496245793309223, 0.014082884077884448), (0.3647622977431757, 0.014094559662962984), (0.37991425531553263, 0.014094932350070592), (0.39810796112508434, 0.014105238860693578), (0.38069069613182804, 0.013710604482889282), (0.39144255803670325, 0.013709144414854492), (0.39142566987736843, 0.014090329723324278), (0.3615244574540298, 0.01408877940507118), (0.3882129926800689, 0.013723104491280436)]\n",
      "0.3803013444389921\n",
      "0.024165662419014914\n",
      "0.02795885690230392\n"
     ]
    }
   ],
   "source": [
    "m3_results = chop_dict_length(dict_list=m3_results_bunched, length=repeats)\n",
    "\n",
    "index=0\n",
    "print(m3_results[index])\n",
    "m3_vals = extract_element(loc=0, arr=m3_results[index])\n",
    "m3_uncertainity_vals = extract_element(loc=1, arr=m3_results[index])\n",
    "\n",
    "m3_mitigated_vals = np.average(m3_vals)\n",
    "print(m3_mitigated_vals)\n",
    "\n",
    "m3_uncertainity = 2*np.std(m3_vals)\n",
    "print(m3_uncertainity)\n",
    "\n",
    "m3_uncertainity_estimate = 2*np.average(m3_uncertainity_vals)\n",
    "print(m3_uncertainity_estimate)"
   ]
  },
  {
   "cell_type": "code",
   "execution_count": 51,
   "id": "ad3e1943",
   "metadata": {},
   "outputs": [],
   "source": [
    "# Make a noise model\n",
    "backend = FakeKolkata()\n",
    "noise_model = NoiseModel.from_backend(backend)\n",
    "num_backend_qubits = system_info(backend)[\"num_qubits\"]\n",
    "\n",
    "circs = circuit_list\n",
    "ops = all_z_op_list(circuit_list, num_backend_qubits)\n",
    "\n",
    "# Set options to include the noise model\n",
    "options = Options()\n",
    "options.simulator = {\n",
    "    \"noise_model\": noise_model,\n",
    "    \"basis_gates\": backend.configuration().basis_gates,\n",
    "    \"coupling_map\": backend.configuration().coupling_map,\n",
    "    \"seed_simulator\": 42\n",
    "}\n",
    "\n",
    "# Set number of shots, optimization_level and resilience_level\n",
    "options.execution.shots = 8192\n",
    "options.optimization_level = 0\n",
    "options.resilience_level = 0\n",
    "\n",
    "# Set options to include the noise model with error mitigation\n",
    "options_with_em = Options()\n",
    "options_with_em.simulator = {\n",
    "    \"noise_model\": noise_model,\n",
    "    \"basis_gates\": backend.configuration().basis_gates,\n",
    "    \"coupling_map\": backend.configuration().coupling_map,\n",
    "    \"seed_simulator\": 42\n",
    "}\n",
    "\n",
    "# Set number of shots, optimization_level and resilience_level\n",
    "options_with_em.execution.shots = 8192\n",
    "options_with_em.optimization_level = 0 # no optimization\n",
    "options_with_em.resilience_level = 1 # M3 for Sampler and T-REx for Estimator\n",
    "\n",
    "with Session(backend=\"ibmq_qasm_simulator\"):\n",
    "    # # include the noise model without T-REx\n",
    "    # estimator = Estimator(options=options)\n",
    "    # #job = estimator.run(circuits=[qc], observables=[op])\n",
    "    # job = estimator.run(circuits=circuit_list, observables=all_z_op_list)\n",
    "    # result = job.result()\n",
    "    # print(f\"Expectation value without T-REx: {np.average(result.values)}\")\n",
    "    # print(f\"Std without T-REx: {2*np.std(result.values)}\")\n",
    "    # print(f\"Metadata without T-REx: {result.metadata}\")\n",
    "\n",
    "    # include the noise model with T-REx\n",
    "    estimator = Estimator(options=options_with_em)\n",
    "    #job = estimator.run(circuits=[qc], observables=[op])\n",
    "    job = estimator.run(circuits=circs, observables=ops)\n",
    "    trex_result = job.result()\n",
    "    #print(f\"Expectation value with T-REx: {np.average(trex_result.values)}\")\n",
    "    #print(f\"Std with T-REx: {2*np.std(trex_result.values)}\")\n",
    "    #print(f\"Metadata with T-REx: {trex_result.metadata}\")"
   ]
  },
  {
   "cell_type": "code",
   "execution_count": 52,
   "id": "b1433031",
   "metadata": {},
   "outputs": [
    {
     "name": "stdout",
     "output_type": "stream",
     "text": [
      "[0.37630129 0.37630129 0.38732394 0.38977342 0.39804042 0.42559706\n",
      " 0.37875077 0.3781384  0.40293938 0.38028169]\n",
      "[0.0132179  0.0132179  0.01317898 0.01317016 0.01313994 0.01303409\n",
      " 0.01320936 0.0132115  0.0131217  0.01320399]\n",
      "0.3893447642375995\n",
      "0.029927537467497167\n",
      "0.026341102466944842\n"
     ]
    }
   ],
   "source": [
    "expvals_trex_variance = [metadata[\"variance\"] / metadata[\"shots\"] for metadata in trex_result.metadata]\n",
    "\n",
    "trex_results = chop_dict_length(dict_list=trex_result.values, length=repeats)\n",
    "trex_std_results = chop_dict_length(dict_list=np.sqrt(expvals_trex_variance), length=repeats)\n",
    "\n",
    "index=0\n",
    "print(trex_results[index])\n",
    "print(trex_std_results[index])\n",
    "\n",
    "trex_mitigated_vals = np.average(trex_results[index])\n",
    "print(trex_mitigated_vals)\n",
    "\n",
    "trex_uncertainity = 2*np.std(trex_results[index])\n",
    "print(trex_uncertainity)\n",
    "\n",
    "trex_uncertainity_estimate = 2*np.average(trex_std_results[index])\n",
    "print(trex_uncertainity_estimate)"
   ]
  },
  {
   "cell_type": "code",
   "execution_count": 13,
   "id": "1dc91fe1",
   "metadata": {},
   "outputs": [
    {
     "data": {
      "text/plain": [
       "40"
      ]
     },
     "execution_count": 13,
     "metadata": {},
     "output_type": "execute_result"
    }
   ],
   "source": [
    "# backend = provider.get_backend('ibm_nazca')\n",
    "# num_backend_qubits = system_info(backend)[\"num_qubits\"]\n",
    "# circs = circuit_list\n",
    "# ops = all_z_op_list(circuit_list, num_backend_qubits)\n",
    "\n",
    "# # Set options to include the noise model\n",
    "# options = Options()\n",
    "\n",
    "# # Set number of shots, optimization_level and resilience_level\n",
    "# options.execution.shots = int(1024*64)\n",
    "# options.optimization_level = 0\n",
    "# options.resilience_level = 0\n",
    "\n",
    "# # Set options to include the noise model with error mitigation\n",
    "# options_with_em = Options()\n",
    "\n",
    "# # Set number of shots, optimization_level and resilience_level\n",
    "# options_with_em.execution.shots = int(1024*64)\n",
    "# options_with_em.optimization_level = 0 # no optimization\n",
    "# options_with_em.resilience_level = 1 # M3 for Sampler and T-REx for Estimator"
   ]
  },
  {
   "cell_type": "code",
   "execution_count": 16,
   "id": "a3637203",
   "metadata": {},
   "outputs": [
    {
     "name": "stdout",
     "output_type": "stream",
     "text": [
      "Expectation values with T-REx: [1.00565844 1.01043504 1.01462375 1.0175632  1.00698119 1.00393151\n",
      " 1.02083333 1.0218254  1.01521164 1.00157995 1.0088434  1.00372615\n",
      " 0.97466216 1.00765103 1.01420906 1.00511725 0.99219992 0.97858704\n",
      " 0.9858903  1.0757651  1.28452908 1.28018331 1.26619785 1.26311631\n",
      " 1.31052465 1.2818426  1.26722503 1.26619785 1.26382743 1.28073641\n",
      " 1.0379119  0.98428043 0.99445192 0.97999328 0.97621049 0.99873907\n",
      " 1.03732347 0.97007397 0.96477808 0.9539341 ]\n",
      "Avg Expectation value with T-REx: 1.0706843027905777\n",
      "Std with T-REx: 0.24164742343563278\n",
      "Metadata with T-REx: [{'variance': 0.43826144712571813, 'shots': 65536, 'readout_mitigation_num_twirled_circuits': 16, 'readout_mitigation_shots_calibration': 8192}, {'variance': 0.4286313710059546, 'shots': 65536, 'readout_mitigation_num_twirled_circuits': 16, 'readout_mitigation_shots_calibration': 8192}, {'variance': 0.42014898189881045, 'shots': 65536, 'readout_mitigation_num_twirled_circuits': 16, 'readout_mitigation_shots_calibration': 8192}, {'variance': 0.4141754752884236, 'shots': 65536, 'readout_mitigation_num_twirled_circuits': 16, 'readout_mitigation_shots_calibration': 8192}, {'variance': 0.4355992254011801, 'shots': 65536, 'readout_mitigation_num_twirled_circuits': 16, 'readout_mitigation_shots_calibration': 8192}, {'variance': 0.4417318589244111, 'shots': 65536, 'readout_mitigation_num_twirled_circuits': 16, 'readout_mitigation_shots_calibration': 8192}, {'variance': 0.40750964300964504, 'shots': 65536, 'readout_mitigation_num_twirled_circuits': 16, 'readout_mitigation_shots_calibration': 8192}, {'variance': 0.4054831958567098, 'shots': 65536, 'readout_mitigation_num_twirled_circuits': 16, 'readout_mitigation_shots_calibration': 8192}, {'variance': 0.4189556630328807, 'shots': 65536, 'readout_mitigation_num_twirled_circuits': 16, 'readout_mitigation_shots_calibration': 8192}, {'variance': 0.446447935265022, 'shots': 65536, 'readout_mitigation_num_twirled_circuits': 16, 'readout_mitigation_shots_calibration': 8192}, {'variance': 1.6325568725024706, 'shots': 65536, 'readout_mitigation_num_twirled_circuits': 16, 'readout_mitigation_shots_calibration': 8192}, {'variance': 1.6428556932571132, 'shots': 65536, 'readout_mitigation_num_twirled_circuits': 16, 'readout_mitigation_shots_calibration': 8192}, {'variance': 1.7003555523662865, 'shots': 65536, 'readout_mitigation_num_twirled_circuits': 16, 'readout_mitigation_shots_calibration': 8192}, {'variance': 1.6349612776323739, 'shots': 65536, 'readout_mitigation_num_twirled_circuits': 16, 'readout_mitigation_shots_calibration': 8192}, {'variance': 1.621701861267538, 'shots': 65536, 'readout_mitigation_num_twirled_circuits': 16, 'readout_mitigation_shots_calibration': 8192}, {'variance': 1.6400611972683252, 'shots': 65536, 'readout_mitigation_num_twirled_circuits': 16, 'readout_mitigation_shots_calibration': 8192}, {'variance': 1.6658612004593496, 'shots': 65536, 'readout_mitigation_num_twirled_circuits': 16, 'readout_mitigation_shots_calibration': 8192}, {'variance': 1.6926892821356672, 'shots': 65536, 'readout_mitigation_num_twirled_circuits': 16, 'readout_mitigation_shots_calibration': 8192}, {'variance': 1.6783421950075952, 'shots': 65536, 'readout_mitigation_num_twirled_circuits': 16, 'readout_mitigation_shots_calibration': 8192}, {'variance': 1.4930513251557282, 'shots': 65536, 'readout_mitigation_num_twirled_circuits': 16, 'readout_mitigation_shots_calibration': 8192}, {'variance': 5.05356722689957, 'shots': 65536, 'readout_mitigation_num_twirled_circuits': 16, 'readout_mitigation_shots_calibration': 8192}, {'variance': 5.064712863863535, 'shots': 65536, 'readout_mitigation_num_twirled_circuits': 16, 'readout_mitigation_shots_calibration': 8192}, {'variance': 5.100325179434488, 'shots': 65536, 'readout_mitigation_num_twirled_circuits': 16, 'readout_mitigation_shots_calibration': 8192}, {'variance': 5.108119368136479, 'shots': 65536, 'readout_mitigation_num_twirled_circuits': 16, 'readout_mitigation_shots_calibration': 8192}, {'variance': 4.98610731247233, 'shots': 65536, 'readout_mitigation_num_twirled_circuits': 16, 'readout_mitigation_shots_calibration': 8192}, {'variance': 5.0604617146657, 'shots': 65536, 'readout_mitigation_num_twirled_circuits': 16, 'readout_mitigation_shots_calibration': 8192}, {'variance': 5.097722896132374, 'shots': 65536, 'readout_mitigation_num_twirled_circuits': 16, 'readout_mitigation_shots_calibration': 8192}, {'variance': 5.100325179434488, 'shots': 65536, 'readout_mitigation_num_twirled_circuits': 16, 'readout_mitigation_shots_calibration': 8192}, {'variance': 5.106322394868552, 'shots': 65536, 'readout_mitigation_num_twirled_circuits': 16, 'readout_mitigation_shots_calibration': 8192}, {'variance': 5.063296425964269, 'shots': 65536, 'readout_mitigation_num_twirled_circuits': 16, 'readout_mitigation_shots_calibration': 8192}, {'variance': 6.51022586214577, 'shots': 65536, 'readout_mitigation_num_twirled_circuits': 16, 'readout_mitigation_shots_calibration': 8192}, {'variance': 6.618679015206436, 'shots': 65536, 'readout_mitigation_num_twirled_circuits': 16, 'readout_mitigation_shots_calibration': 8192}, {'variance': 6.598552366417945, 'shots': 65536, 'readout_mitigation_num_twirled_circuits': 16, 'readout_mitigation_shots_calibration': 8192}, {'variance': 6.627100161724409, 'shots': 65536, 'readout_mitigation_num_twirled_circuits': 16, 'readout_mitigation_shots_calibration': 8192}, {'variance': 6.63450005828365, 'shots': 65536, 'readout_mitigation_num_twirled_circuits': 16, 'readout_mitigation_shots_calibration': 8192}, {'variance': 6.59000724701504, 'shots': 65536, 'readout_mitigation_num_twirled_circuits': 16, 'readout_mitigation_shots_calibration': 8192}, {'variance': 6.511446999302179, 'shots': 65536, 'readout_mitigation_num_twirled_circuits': 16, 'readout_mitigation_shots_calibration': 8192}, {'variance': 6.6464434649726005, 'shots': 65536, 'readout_mitigation_num_twirled_circuits': 16, 'readout_mitigation_shots_calibration': 8192}, {'variance': 6.6566902436561834, 'shots': 65536, 'readout_mitigation_num_twirled_circuits': 16, 'readout_mitigation_shots_calibration': 8192}, {'variance': 6.677496722321994, 'shots': 65536, 'readout_mitigation_num_twirled_circuits': 16, 'readout_mitigation_shots_calibration': 8192}]\n"
     ]
    }
   ],
   "source": [
    "# with Session(backend='ibm_nazca'):\n",
    "#     # # include the noise model without T-REx\n",
    "#     # estimator = Estimator(options=options)\n",
    "#     # #job = estimator.run(circuits=[qc], observables=[op])\n",
    "#     # job = estimator.run(circuits=circuit_list, observables=all_z_op_list)\n",
    "#     # result = job.result()\n",
    "#     # print(f\"Operator: {op}\")\n",
    "#     # print(f\"Avg Expectation value without T-REx: {np.average(result.values)}\")\n",
    "#     # print(f\"Std without T-REx: {2*np.std(result.values)}\")\n",
    "#     # print(f\"Metadata without T-REx: {result.metadata}\")\n",
    "\n",
    "#     # include the noise model with T-REx\n",
    "#     estimator = Estimator(options=options_with_em)\n",
    "#     #job = estimator.run(circuits=[qc], observables=[op])\n",
    "#     job = estimator.run(circuits=circs, observables=ops)\n",
    "#     trex_result = job.result()"
   ]
  },
  {
   "cell_type": "code",
   "execution_count": 54,
   "id": "3c53c0c0",
   "metadata": {},
   "outputs": [
    {
     "name": "stdout",
     "output_type": "stream",
     "text": [
      "[1.28452908 1.28018331 1.26619785 1.26311631 1.31052465 1.2818426\n",
      " 1.26722503 1.26619785 1.26382743 1.28073641]\n",
      "[0.0087813  0.00879098 0.00882184 0.00882857 0.0087225  0.00878729\n",
      " 0.00881958 0.00882184 0.00882702 0.00878975]\n",
      "1.2764380530973451\n",
      "0.02771405982341234\n",
      "0.017598136663178738\n"
     ]
    }
   ],
   "source": [
    "# expvals_trex_variance = [metadata[\"variance\"] / metadata[\"shots\"] for metadata in trex_result.metadata]\n",
    "\n",
    "# trex_results = chop_dict_length(dict_list=trex_result.values, length=repeats)\n",
    "# trex_std_results = chop_dict_length(dict_list=np.sqrt(expvals_trex_variance), length=repeats)\n",
    "\n",
    "# index=0\n",
    "# print(trex_results[index])\n",
    "# print(trex_std_results[index])\n",
    "\n",
    "# trex_mitigated_vals = np.average(trex_results[index])\n",
    "# print(trex_mitigated_vals)\n",
    "\n",
    "# trex_uncertainity = 2*np.std(trex_results[index])\n",
    "# print(trex_uncertainity)\n",
    "\n",
    "# trex_uncertainity_estimate = 2*np.average(trex_std_results[index])\n",
    "# print(trex_uncertainity_estimate)"
   ]
  },
  {
   "cell_type": "code",
   "execution_count": 9,
   "id": "06fae030",
   "metadata": {},
   "outputs": [],
   "source": [
    "# # Run for a list of circuits and obtain the estimates for circuits on real hardware\n",
    "# # implement code that does trex inside the runtime envrionment\n",
    "# # see if it possible to reproduce the plot shared by Paul"
   ]
  }
 ],
 "metadata": {
  "kernelspec": {
   "display_name": "Python 3 (ipykernel)",
   "language": "python",
   "name": "python3"
  },
  "language_info": {
   "codemirror_mode": {
    "name": "ipython",
    "version": 3
   },
   "file_extension": ".py",
   "mimetype": "text/x-python",
   "name": "python",
   "nbconvert_exporter": "python",
   "pygments_lexer": "ipython3",
   "version": "3.11.3"
  }
 },
 "nbformat": 4,
 "nbformat_minor": 5
}
